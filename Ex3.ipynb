{
  "cells": [
    {
      "cell_type": "markdown",
      "metadata": {
        "id": "m-3-nUiC9bCL"
      },
      "source": [
        "# **Régression linière polynomial multiple cas de china GDP**"
      ]
    },
    {
      "cell_type": "code",
      "execution_count": null,
      "metadata": {
        "id": "8rfQQ2kp-J9e"
      },
      "outputs": [],
      "source": [
        "import pandas as pd\n",
        "import matplotlib.pyplot as plt\n",
        "import numpy as np\n"
      ]
    },
    {
      "cell_type": "code",
      "execution_count": null,
      "metadata": {
        "colab": {
          "base_uri": "https://localhost:8080/"
        },
        "id": "_43D-89k-PtX",
        "outputId": "222ced4e-25a4-48ca-caca-20df688ed67d"
      },
      "outputs": [
        {
          "name": "stdout",
          "output_type": "stream",
          "text": [
            "    Year         Value\n",
            "0   1960  5.918412e+10\n",
            "1   1961  4.955705e+10\n",
            "2   1962  4.668518e+10\n",
            "3   1963  5.009730e+10\n",
            "4   1964  5.906225e+10\n",
            "5   1965  6.970915e+10\n",
            "6   1966  7.587943e+10\n",
            "7   1967  7.205703e+10\n",
            "8   1968  6.999350e+10\n",
            "9   1969  7.871882e+10\n",
            "10  1970  9.150621e+10\n",
            "11  1971  9.856202e+10\n",
            "12  1972  1.121598e+11\n",
            "13  1973  1.367699e+11\n",
            "14  1974  1.422547e+11\n",
            "15  1975  1.611625e+11\n",
            "16  1976  1.516277e+11\n",
            "17  1977  1.723490e+11\n",
            "18  1978  1.483821e+11\n",
            "19  1979  1.768565e+11\n",
            "20  1980  1.896500e+11\n",
            "21  1981  1.943690e+11\n",
            "22  1982  2.035496e+11\n",
            "23  1983  2.289502e+11\n",
            "24  1984  2.580821e+11\n",
            "25  1985  3.074796e+11\n",
            "26  1986  2.988058e+11\n",
            "27  1987  2.713498e+11\n",
            "28  1988  3.107222e+11\n",
            "29  1989  3.459575e+11\n",
            "30  1990  3.589732e+11\n",
            "31  1991  3.814547e+11\n",
            "32  1992  4.249341e+11\n",
            "33  1993  4.428746e+11\n",
            "34  1994  5.622611e+11\n",
            "35  1995  7.320320e+11\n",
            "36  1996  8.608441e+11\n",
            "37  1997  9.581594e+11\n",
            "38  1998  1.025277e+12\n",
            "39  1999  1.089447e+12\n",
            "40  2000  1.205261e+12\n",
            "41  2001  1.332235e+12\n",
            "42  2002  1.461906e+12\n",
            "43  2003  1.649929e+12\n",
            "44  2004  1.941746e+12\n",
            "45  2005  2.268599e+12\n",
            "46  2006  2.729784e+12\n",
            "47  2007  3.523094e+12\n",
            "48  2008  4.558431e+12\n",
            "49  2009  5.059420e+12\n",
            "50  2010  6.039659e+12\n",
            "51  2011  7.492432e+12\n",
            "52  2012  8.461623e+12\n",
            "53  2013  9.490603e+12\n",
            "54  2014  1.035483e+13\n"
          ]
        }
      ],
      "source": [
        "df=pd.read_csv(\"/content/china_gdp.csv\")\n",
        "print(df)"
      ]
    },
    {
      "cell_type": "code",
      "execution_count": null,
      "metadata": {
        "colab": {
          "base_uri": "https://localhost:8080/",
          "height": 300
        },
        "id": "lKYao5E1-o-m",
        "outputId": "42c21fa6-9d3b-4323-801f-718098c047aa"
      },
      "outputs": [
        {
          "data": {
            "text/html": [
              "\n",
              "  <div id=\"df-04d935ac-5a1f-4b00-bdab-f341a31aefc1\">\n",
              "    <div class=\"colab-df-container\">\n",
              "      <div>\n",
              "<style scoped>\n",
              "    .dataframe tbody tr th:only-of-type {\n",
              "        vertical-align: middle;\n",
              "    }\n",
              "\n",
              "    .dataframe tbody tr th {\n",
              "        vertical-align: top;\n",
              "    }\n",
              "\n",
              "    .dataframe thead th {\n",
              "        text-align: right;\n",
              "    }\n",
              "</style>\n",
              "<table border=\"1\" class=\"dataframe\">\n",
              "  <thead>\n",
              "    <tr style=\"text-align: right;\">\n",
              "      <th></th>\n",
              "      <th>Year</th>\n",
              "      <th>Value</th>\n",
              "    </tr>\n",
              "  </thead>\n",
              "  <tbody>\n",
              "    <tr>\n",
              "      <th>count</th>\n",
              "      <td>55.00000</td>\n",
              "      <td>5.500000e+01</td>\n",
              "    </tr>\n",
              "    <tr>\n",
              "      <th>mean</th>\n",
              "      <td>1987.00000</td>\n",
              "      <td>1.437042e+12</td>\n",
              "    </tr>\n",
              "    <tr>\n",
              "      <th>std</th>\n",
              "      <td>16.02082</td>\n",
              "      <td>2.500085e+12</td>\n",
              "    </tr>\n",
              "    <tr>\n",
              "      <th>min</th>\n",
              "      <td>1960.00000</td>\n",
              "      <td>4.668518e+10</td>\n",
              "    </tr>\n",
              "    <tr>\n",
              "      <th>25%</th>\n",
              "      <td>1973.50000</td>\n",
              "      <td>1.395123e+11</td>\n",
              "    </tr>\n",
              "    <tr>\n",
              "      <th>50%</th>\n",
              "      <td>1987.00000</td>\n",
              "      <td>3.074796e+11</td>\n",
              "    </tr>\n",
              "    <tr>\n",
              "      <th>75%</th>\n",
              "      <td>2000.50000</td>\n",
              "      <td>1.268748e+12</td>\n",
              "    </tr>\n",
              "    <tr>\n",
              "      <th>max</th>\n",
              "      <td>2014.00000</td>\n",
              "      <td>1.035483e+13</td>\n",
              "    </tr>\n",
              "  </tbody>\n",
              "</table>\n",
              "</div>\n",
              "      <button class=\"colab-df-convert\" onclick=\"convertToInteractive('df-04d935ac-5a1f-4b00-bdab-f341a31aefc1')\"\n",
              "              title=\"Convert this dataframe to an interactive table.\"\n",
              "              style=\"display:none;\">\n",
              "        \n",
              "  <svg xmlns=\"http://www.w3.org/2000/svg\" height=\"24px\"viewBox=\"0 0 24 24\"\n",
              "       width=\"24px\">\n",
              "    <path d=\"M0 0h24v24H0V0z\" fill=\"none\"/>\n",
              "    <path d=\"M18.56 5.44l.94 2.06.94-2.06 2.06-.94-2.06-.94-.94-2.06-.94 2.06-2.06.94zm-11 1L8.5 8.5l.94-2.06 2.06-.94-2.06-.94L8.5 2.5l-.94 2.06-2.06.94zm10 10l.94 2.06.94-2.06 2.06-.94-2.06-.94-.94-2.06-.94 2.06-2.06.94z\"/><path d=\"M17.41 7.96l-1.37-1.37c-.4-.4-.92-.59-1.43-.59-.52 0-1.04.2-1.43.59L10.3 9.45l-7.72 7.72c-.78.78-.78 2.05 0 2.83L4 21.41c.39.39.9.59 1.41.59.51 0 1.02-.2 1.41-.59l7.78-7.78 2.81-2.81c.8-.78.8-2.07 0-2.86zM5.41 20L4 18.59l7.72-7.72 1.47 1.35L5.41 20z\"/>\n",
              "  </svg>\n",
              "      </button>\n",
              "      \n",
              "  <style>\n",
              "    .colab-df-container {\n",
              "      display:flex;\n",
              "      flex-wrap:wrap;\n",
              "      gap: 12px;\n",
              "    }\n",
              "\n",
              "    .colab-df-convert {\n",
              "      background-color: #E8F0FE;\n",
              "      border: none;\n",
              "      border-radius: 50%;\n",
              "      cursor: pointer;\n",
              "      display: none;\n",
              "      fill: #1967D2;\n",
              "      height: 32px;\n",
              "      padding: 0 0 0 0;\n",
              "      width: 32px;\n",
              "    }\n",
              "\n",
              "    .colab-df-convert:hover {\n",
              "      background-color: #E2EBFA;\n",
              "      box-shadow: 0px 1px 2px rgba(60, 64, 67, 0.3), 0px 1px 3px 1px rgba(60, 64, 67, 0.15);\n",
              "      fill: #174EA6;\n",
              "    }\n",
              "\n",
              "    [theme=dark] .colab-df-convert {\n",
              "      background-color: #3B4455;\n",
              "      fill: #D2E3FC;\n",
              "    }\n",
              "\n",
              "    [theme=dark] .colab-df-convert:hover {\n",
              "      background-color: #434B5C;\n",
              "      box-shadow: 0px 1px 3px 1px rgba(0, 0, 0, 0.15);\n",
              "      filter: drop-shadow(0px 1px 2px rgba(0, 0, 0, 0.3));\n",
              "      fill: #FFFFFF;\n",
              "    }\n",
              "  </style>\n",
              "\n",
              "      <script>\n",
              "        const buttonEl =\n",
              "          document.querySelector('#df-04d935ac-5a1f-4b00-bdab-f341a31aefc1 button.colab-df-convert');\n",
              "        buttonEl.style.display =\n",
              "          google.colab.kernel.accessAllowed ? 'block' : 'none';\n",
              "\n",
              "        async function convertToInteractive(key) {\n",
              "          const element = document.querySelector('#df-04d935ac-5a1f-4b00-bdab-f341a31aefc1');\n",
              "          const dataTable =\n",
              "            await google.colab.kernel.invokeFunction('convertToInteractive',\n",
              "                                                     [key], {});\n",
              "          if (!dataTable) return;\n",
              "\n",
              "          const docLinkHtml = 'Like what you see? Visit the ' +\n",
              "            '<a target=\"_blank\" href=https://colab.research.google.com/notebooks/data_table.ipynb>data table notebook</a>'\n",
              "            + ' to learn more about interactive tables.';\n",
              "          element.innerHTML = '';\n",
              "          dataTable['output_type'] = 'display_data';\n",
              "          await google.colab.output.renderOutput(dataTable, element);\n",
              "          const docLink = document.createElement('div');\n",
              "          docLink.innerHTML = docLinkHtml;\n",
              "          element.appendChild(docLink);\n",
              "        }\n",
              "      </script>\n",
              "    </div>\n",
              "  </div>\n",
              "  "
            ],
            "text/plain": [
              "             Year         Value\n",
              "count    55.00000  5.500000e+01\n",
              "mean   1987.00000  1.437042e+12\n",
              "std      16.02082  2.500085e+12\n",
              "min    1960.00000  4.668518e+10\n",
              "25%    1973.50000  1.395123e+11\n",
              "50%    1987.00000  3.074796e+11\n",
              "75%    2000.50000  1.268748e+12\n",
              "max    2014.00000  1.035483e+13"
            ]
          },
          "execution_count": 4,
          "metadata": {},
          "output_type": "execute_result"
        }
      ],
      "source": [
        "df.describe()"
      ]
    },
    {
      "cell_type": "code",
      "execution_count": null,
      "metadata": {
        "colab": {
          "base_uri": "https://localhost:8080/"
        },
        "id": "EIO96NA6-ve6",
        "outputId": "dd298888-bde6-4dbd-cb55-1ff9be0fe41d"
      },
      "outputs": [
        {
          "output_type": "execute_result",
          "data": {
            "text/plain": [
              "(55, 2)"
            ]
          },
          "metadata": {},
          "execution_count": 44
        }
      ],
      "source": [
        "df.shape"
      ]
    },
    {
      "cell_type": "code",
      "source": [
        "import pandas as pd\n",
        "import numpy as np\n",
        "import matplotlib.pyplot as plt\n",
        "from sklearn.linear_model import LinearRegression\n",
        "from sklearn.preprocessing import PolynomialFeatures\n",
        "from sklearn.metrics import mean_squared_error, mean_absolute_error\n",
        "\n",
        "X = np.array(df['Year']).reshape(-1, 1)\n",
        "y = np.array(df['Value'])\n",
        "\n",
        "# Diviser les données en ensemble de formation et ensemble de test\n",
        "train_X = X[:len(X)-5]\n",
        "train_y = y[:len(y)-5]\n",
        "test_X = X[len(X)-5:]\n",
        "test_y = y[len(y)-5:]\n",
        "\n",
        "# Régression linéaire\n",
        "lin_reg = LinearRegression()\n",
        "lin_reg.fit(train_X, train_y)\n",
        "\n",
        "# Régression polynomiale\n",
        "poly_reg = PolynomialFeatures(degree=3)\n",
        "X_poly = poly_reg.fit_transform(train_X)\n",
        "poly_reg.fit(X_poly, train_y)\n",
        "lin_reg2 = LinearRegression()\n",
        "lin_reg2.fit(X_poly, train_y)\n",
        "\n",
        "# Prédiction pour les deux modèles\n",
        "pred_lin = lin_reg.predict(test_X)\n",
        "pred_poly = lin_reg2.predict(poly_reg.fit_transform(test_X))\n",
        "\n",
        "# Visualisation des résultats de la régression linéaire\n",
        "plt.scatter(train_X, train_y)\n",
        "plt.plot(train_X, lin_reg.predict(train_X), color='red')\n",
        "plt.xlabel('Année')\n",
        "plt.ylabel('GDP')\n",
        "plt.title('Régression linéaire')\n",
        "plt.show()\n",
        "\n",
        "# Visualisation des résultats de la régression polynomiale\n",
        "plt.scatter(train_X, train_y)\n",
        "plt.plot(train_X, lin_reg2.predict(poly_reg.fit_transform(train_X)), color='red')\n",
        "plt.xlabel('Année')\n",
        "plt.ylabel('GDP')\n",
        "plt.title('Régression polynomiale')\n",
        "plt.show()\n",
        "\n",
        "# Evaluation des deux modèles\n",
        "mse_lin = mean_squared_error(test_y, pred_lin)\n",
        "rmse_lin = np.sqrt(mse_lin)\n",
        "mae_lin = mean_absolute_error(test_y, pred_lin)\n",
        "print(\"MSE pour la régression linéaire:\", mse_lin)\n",
        "print(\"RMSE pour la régression linéaire:\", rmse_lin)\n",
        "print(\"MAE pour la régression linéaire:\", mae_lin)\n",
        "\n",
        "mse_poly = mean_squared_error(test_y, pred_poly)\n",
        "rmse_poly = np.sqrt(mse_poly)\n",
        "mae_poly = mean_absolute_error(test_y, pred_poly)\n",
        "print(\"MSE pour la régression polynomiale:\", mse_poly)\n",
        "print(\"RMSE pour la régression polynomiale:\", rmse_poly)\n",
        "print(\"MAE pour la régression polynomiale:\", mae_poly)\n"
      ],
      "metadata": {
        "colab": {
          "base_uri": "https://localhost:8080/",
          "height": 677
        },
        "id": "L9WFWAKjPuPy",
        "outputId": "9b522490-8d05-4ec3-e988-0e5e696103f3"
      },
      "execution_count": null,
      "outputs": [
        {
          "output_type": "display_data",
          "data": {
            "text/plain": [
              "<Figure size 432x288 with 1 Axes>"
            ],
            "image/png": "[encoded data removed]"
          },
          "metadata": {
            "needs_background": "light"
          }
        },
        {
          "output_type": "display_data",
          "data": {
            "text/plain": [
              "<Figure size 432x288 with 1 Axes>"
            ],
            "image/png": "[encoded data removed]"
          },
          "metadata": {
            "needs_background": "light"
          }
        },
        {
          "output_type": "stream",
          "name": "stdout",
          "text": [
            "MSE pour la régression linéaire: 3.8449999173939907e+25\n",
            "RMSE pour la régression linéaire: 6200806332561.912\n",
            "MAE pour la régression linéaire: 6033925277544.178\n",
            "MSE pour la régression polynomiale: 7.664127828046349e+24\n",
            "RMSE pour la régression polynomiale: 2768416122631.558\n",
            "MAE pour la régression polynomiale: 2655494514829.3325\n"
          ]
        }
      ]
    }
  ],
  "metadata": {
    "colab": {
      "provenance": []
    },
    "kernelspec": {
      "display_name": "Python 3",
      "name": "python3"
    },
    "language_info": {
      "name": "python"
    }
  },
  "nbformat": 4,
  "nbformat_minor": 0
}